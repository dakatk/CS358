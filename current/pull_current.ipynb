{
 "cells": [
  {
   "cell_type": "code",
   "execution_count": 1,
   "metadata": {
    "collapsed": true
   },
   "outputs": [],
   "source": [
    "from lxml import html\n",
    "import requests"
   ]
  },
  {
   "cell_type": "code",
   "execution_count": 7,
   "metadata": {
    "collapsed": false
   },
   "outputs": [
    {
     "name": "stdout",
     "output_type": "stream",
     "text": [
      "Wx Values:  ['33.4', '27', '\\n  6.6\\n  ', 'SSW', '6.9', '28', '84', '0.00', '0.32', '29.88', '0']\n"
     ]
    }
   ],
   "source": [
    "page = requests.get('http://www.wunderground.com/personal-weather-station/dashboard?ID=KINVALPA27#history')\n",
    "tree = html.fromstring(page.content)\n",
    "\n",
    "#This will create a list of weather values\n",
    "wx_values = tree.xpath('//span[@class=\"wx-value\"]/text()')\n",
    "\n",
    "print 'Wx Values: ', wx_values"
   ]
  },
  {
   "cell_type": "code",
   "execution_count": 3,
   "metadata": {
    "collapsed": true
   },
   "outputs": [],
   "source": []
  },
  {
   "cell_type": "code",
   "execution_count": null,
   "metadata": {
    "collapsed": false
   },
   "outputs": [],
   "source": []
  },
  {
   "cell_type": "code",
   "execution_count": 131,
   "metadata": {
    "collapsed": false
   },
   "outputs": [],
   "source": [
    "#imports\n",
    "import matplotlib\n",
    "matplotlib.use('Agg')\n",
    "import urllib\n",
    "import urllib2\n",
    "from metpy.calc.thermo import dewpoint_rh\n",
    "import numpy as np\n",
    "import scipy.integrate as si\n",
    "from metpy.package_tools import Exporter\n",
    "from metpy.constants import epsilon, kappa, P0, Rd, Lv, Cp_d\n",
    "from metpy.units import atleast_1d, concatenate, units\n",
    "import sys\n",
    "from datetime import datetime\n",
    "import re\n",
    "import warnings\n",
    "warnings.filterwarnings(\"ignore\")\n",
    "\n",
    "#User Input area *****************\n",
    "url = 'http://152.228.140.57/status.xml'\n",
    "filename = \"/home/dgoines/public_html/current/status.txt\"\n",
    "inch_mb_ratio = (1013.25/29.92)\n",
    "degree_symbol = u'{0}'.format(u'\\N{DEGREE SIGN}').encode('utf-8')\n",
    "#*********************************\n",
    "\n",
    "i=0\n",
    "f = open(filename,'r')\n",
    "text = f.readlines()\n",
    "text_list = text[1].split()\n",
    "\n",
    "my_data = {}\n",
    "for i in range(len(text_list)):\n",
    "    new_text_list = re.split('</|<|>',text_list[i])\n",
    "    foo = new_text_list[1]\n",
    "    my_data[foo] = new_text_list[2]\n",
    "    \n"
   ]
  },
  {
   "cell_type": "code",
   "execution_count": 134,
   "metadata": {
    "collapsed": false
   },
   "outputs": [
    {
     "name": "stdout",
     "output_type": "stream",
     "text": [
      "0\n"
     ]
    }
   ],
   "source": [
    "print my_data['lightning']"
   ]
  },
  {
   "cell_type": "code",
   "execution_count": 136,
   "metadata": {
    "collapsed": false
   },
   "outputs": [
    {
     "name": "stdout",
     "output_type": "stream",
     "text": [
      "['heatindx', 'baropres', 'dayrain', 'windspd', 'tmp1', 'tmp3', 'tmp2', 'tmp1type', 'monthrain', 'termrain', 'rh', 'winddirtxt', 'windchill', 'baropresdir', 'firmwarever', 'unitid', 'date', 'nativeunits', 'winddirnum', 'dewpt', 'lightning', 'sernum', 'time', 'tmp2type', 'resolution']\n"
     ]
    }
   ],
   "source": [
    "print my_data.keys()"
   ]
  },
  {
   "cell_type": "code",
   "execution_count": 138,
   "metadata": {
    "collapsed": false
   },
   "outputs": [
    {
     "name": "stdout",
     "output_type": "stream",
     "text": [
      "16:13:422/6/16\n"
     ]
    }
   ],
   "source": [
    "print my_data['time']+my_data['date']"
   ]
  },
  {
   "cell_type": "code",
   "execution_count": null,
   "metadata": {
    "collapsed": true
   },
   "outputs": [],
   "source": []
  }
 ],
 "metadata": {
  "kernelspec": {
   "display_name": "Python 2",
   "language": "python",
   "name": "python2"
  },
  "language_info": {
   "codemirror_mode": {
    "name": "ipython",
    "version": 2
   },
   "file_extension": ".py",
   "mimetype": "text/x-python",
   "name": "python",
   "nbconvert_exporter": "python",
   "pygments_lexer": "ipython2",
   "version": "2.7.11"
  }
 },
 "nbformat": 4,
 "nbformat_minor": 0
}
